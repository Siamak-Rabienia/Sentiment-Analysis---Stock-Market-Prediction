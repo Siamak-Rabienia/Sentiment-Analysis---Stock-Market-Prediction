{
 "cells": [
  {
   "cell_type": "markdown",
   "metadata": {},
   "source": [
    "##### Stock Market Sentiment Analysis using NLP"
   ]
  },
  {
   "cell_type": "code",
   "execution_count": 1,
   "metadata": {},
   "outputs": [
    {
     "name": "stderr",
     "output_type": "stream",
     "text": [
      "Using TensorFlow backend.\n"
     ]
    }
   ],
   "source": [
    "import math\n",
    "import pandas as pd\n",
    "import numpy as np\n",
    "import pandas_datareader as web\n",
    "import requests\n",
    "import datetime\n",
    "import seaborn as sns\n",
    "import matplotlib.pyplot as plt\n",
    "\n",
    "\n",
    "from datetime import datetime\n",
    "from urllib.request import urlopen, Request\n",
    "from bs4 import BeautifulSoup\n",
    "from nltk.sentiment.vader import SentimentIntensityAnalyzer\n",
    "from textblob import TextBlob\n",
    "from sys import argv\n",
    "\n",
    "from sklearn.feature_extraction.text import CountVectorizer\n",
    "from sklearn.ensemble import RandomForestClassifier\n",
    "from sklearn.preprocessing import MinMaxScaler\n",
    "from keras.models import Sequential\n",
    "from keras.layers import Dense, LSTM\n",
    "\n",
    "plt.style.use('fivethirtyeight') "
   ]
  },
  {
   "cell_type": "markdown",
   "metadata": {},
   "source": [
    "##### Web scarping and geting the news headlines for a specific Index and create the first dataframe for the analysis"
   ]
  },
  {
   "cell_type": "code",
   "execution_count": 29,
   "metadata": {},
   "outputs": [],
   "source": [
    "##### Parse the data\n",
    "source_url = 'https://www.finviz.com/quote.ashx?t='\n",
    "source_tickers = ['NDAQ']# Or 'NDAQ'\n",
    "\n",
    "##### Create a dictionary which has all the tables from the view source page from tickers' html\n",
    "headlines_tables = {}\n",
    "for ticker in source_tickers:\n",
    "    url = source_url + ticker\n",
    "    request = Request(url = url, headers = {'user-agent':'my-app'})\n",
    "    response = urlopen(request)\n",
    "    \n",
    "    html = BeautifulSoup(response, 'html')\n",
    "    headline_table = html.find(id = 'news-table')\n",
    "    headlines_tables[ticker] = headline_table\n",
    "    #break\n",
    "# print(news_tables)"
   ]
  },
  {
   "cell_type": "code",
   "execution_count": 30,
   "metadata": {},
   "outputs": [],
   "source": [
    "##### Creating a dataframe using the headlines\n",
    "parsed_data = []\n",
    "for ticker, headline_table in headlines_tables.items():\n",
    "    for row in headline_table.findAll('tr'):\n",
    "        title = row.a.text\n",
    "        date_data = row.td.text.split(' ')\n",
    "        \n",
    "        ##### Storing Time and Date as two columns separately        \n",
    "        if len(date_data) == 1:\n",
    "            time = date_data[0]\n",
    "        else:\n",
    "            date = date_data[0]\n",
    "            time = date_data[1]\n",
    "        parsed_data.append([ticker,date,time,title])\n",
    "# parsed_data\n",
    "\n",
    "\n",
    "##### Creating a dataframe from the parsed data. Sentiment analysis using nltk\n",
    "data = pd.DataFrame(parsed_data, columns = ['Ticker', 'Date', 'Time', 'Headlines'])"
   ]
  },
  {
   "cell_type": "code",
   "execution_count": 31,
   "metadata": {},
   "outputs": [],
   "source": [
    "##### Combing the daily news headlines for a specific ticker \n",
    "def headline(date): \n",
    "    headline = []\n",
    "    headline.append(' '.join(x for x in data.Headlines[data.Date == date]))\n",
    "    return str(headline)\n",
    "\n",
    "\n",
    "##### List of all daily news for a specific ticker\n",
    "Headlines = []\n",
    "for date in data.Date.unique():\n",
    "    np.asarray(Headlines.append(headline(date)))\n",
    "# Headlines\n",
    "\n",
    "\n",
    "##### Create a Dataframe for the analysis\n",
    "d = {'Date':data.Date.unique(),'Headlines':Headlines}\n",
    "df1 = pd.DataFrame(d)"
   ]
  },
  {
   "cell_type": "code",
   "execution_count": 32,
   "metadata": {},
   "outputs": [],
   "source": [
    "##### Replacing Punctuations with space\n",
    "df1['Headlines'].replace(\"[^a-zA-Z]\", \" \", regex = True, inplace = True)\n",
    "\n",
    "\n",
    "##### Making the Headlines to lower case\n",
    "df1['Headlines'] = df1['Headlines'].str.lower()\n",
    "\n",
    "\n",
    "##### Find Subjectivity and Polarity scores of news using TextBolb\n",
    "Subjectivity = []\n",
    "Polarity = []\n",
    "for headlines in df1['Headlines']:\n",
    "    blob = TextBlob(headlines)\n",
    "    Subjectivity.append(blob.sentiment.subjectivity/len(blob))\n",
    "    Polarity.append(blob.sentiment.polarity/len(blob))\n",
    "df1['Subjectivity'] = Subjectivity\n",
    "df1['Polarity'] = Polarity\n",
    "\n",
    "\n",
    "##### Find Subjectivity and Polarity scores of news using VADER\n",
    "vader = SentimentIntensityAnalyzer()\n",
    "f = lambda title: vader.polarity_scores(title)['compound']\n",
    "df1['Compound'] = df1['Headlines'].apply(f)"
   ]
  },
  {
   "cell_type": "markdown",
   "metadata": {},
   "source": [
    "##### Getting the price quote for the Index and create the second dataframe for the analysis"
   ]
  },
  {
   "cell_type": "code",
   "execution_count": 33,
   "metadata": {},
   "outputs": [
    {
     "data": {
      "text/html": [
       "<div>\n",
       "<style scoped>\n",
       "    .dataframe tbody tr th:only-of-type {\n",
       "        vertical-align: middle;\n",
       "    }\n",
       "\n",
       "    .dataframe tbody tr th {\n",
       "        vertical-align: top;\n",
       "    }\n",
       "\n",
       "    .dataframe thead th {\n",
       "        text-align: right;\n",
       "    }\n",
       "</style>\n",
       "<table border=\"1\" class=\"dataframe\">\n",
       "  <thead>\n",
       "    <tr style=\"text-align: right;\">\n",
       "      <th></th>\n",
       "      <th>High</th>\n",
       "      <th>Low</th>\n",
       "      <th>Open</th>\n",
       "      <th>Close</th>\n",
       "      <th>Volume</th>\n",
       "      <th>Adj Close</th>\n",
       "      <th>Change</th>\n",
       "      <th>Date</th>\n",
       "    </tr>\n",
       "    <tr>\n",
       "      <th>Index</th>\n",
       "      <th></th>\n",
       "      <th></th>\n",
       "      <th></th>\n",
       "      <th></th>\n",
       "      <th></th>\n",
       "      <th></th>\n",
       "      <th></th>\n",
       "      <th></th>\n",
       "    </tr>\n",
       "  </thead>\n",
       "  <tbody>\n",
       "    <tr>\n",
       "      <th>0</th>\n",
       "      <td>148.169998</td>\n",
       "      <td>148.169998</td>\n",
       "      <td>148.169998</td>\n",
       "      <td>148.169998</td>\n",
       "      <td>0</td>\n",
       "      <td>148.169998</td>\n",
       "      <td>0.0</td>\n",
       "      <td>Jan-02-80</td>\n",
       "    </tr>\n",
       "    <tr>\n",
       "      <th>1</th>\n",
       "      <td>145.970001</td>\n",
       "      <td>145.970001</td>\n",
       "      <td>145.970001</td>\n",
       "      <td>145.970001</td>\n",
       "      <td>0</td>\n",
       "      <td>145.970001</td>\n",
       "      <td>0.0</td>\n",
       "      <td>Jan-03-80</td>\n",
       "    </tr>\n",
       "    <tr>\n",
       "      <th>2</th>\n",
       "      <td>148.020004</td>\n",
       "      <td>148.020004</td>\n",
       "      <td>148.020004</td>\n",
       "      <td>148.020004</td>\n",
       "      <td>0</td>\n",
       "      <td>148.020004</td>\n",
       "      <td>0.0</td>\n",
       "      <td>Jan-04-80</td>\n",
       "    </tr>\n",
       "    <tr>\n",
       "      <th>3</th>\n",
       "      <td>148.619995</td>\n",
       "      <td>148.619995</td>\n",
       "      <td>148.619995</td>\n",
       "      <td>148.619995</td>\n",
       "      <td>0</td>\n",
       "      <td>148.619995</td>\n",
       "      <td>0.0</td>\n",
       "      <td>Jan-07-80</td>\n",
       "    </tr>\n",
       "    <tr>\n",
       "      <th>4</th>\n",
       "      <td>150.679993</td>\n",
       "      <td>150.679993</td>\n",
       "      <td>150.679993</td>\n",
       "      <td>150.679993</td>\n",
       "      <td>0</td>\n",
       "      <td>150.679993</td>\n",
       "      <td>0.0</td>\n",
       "      <td>Jan-08-80</td>\n",
       "    </tr>\n",
       "  </tbody>\n",
       "</table>\n",
       "</div>"
      ],
      "text/plain": [
       "             High         Low        Open       Close  Volume   Adj Close  \\\n",
       "Index                                                                       \n",
       "0      148.169998  148.169998  148.169998  148.169998       0  148.169998   \n",
       "1      145.970001  145.970001  145.970001  145.970001       0  145.970001   \n",
       "2      148.020004  148.020004  148.020004  148.020004       0  148.020004   \n",
       "3      148.619995  148.619995  148.619995  148.619995       0  148.619995   \n",
       "4      150.679993  150.679993  150.679993  150.679993       0  150.679993   \n",
       "\n",
       "       Change       Date  \n",
       "Index                     \n",
       "0         0.0  Jan-02-80  \n",
       "1         0.0  Jan-03-80  \n",
       "2         0.0  Jan-04-80  \n",
       "3         0.0  Jan-07-80  \n",
       "4         0.0  Jan-08-80  "
      ]
     },
     "execution_count": 33,
     "metadata": {},
     "output_type": "execute_result"
    }
   ],
   "source": [
    "##### Get the stock quote from yahoo. \n",
    "finance_tickers = ['^IXIC'] # '^IXIC'\n",
    "df2 = web.DataReader(finance_tickers[0], data_source = 'yahoo', start = '1980-01-01', end = '2020-08-03')\n",
    "\n",
    "\n",
    "##### Adding a Change column showing the daily increase/decrease amount on the stock price \n",
    "Change = []\n",
    "for i in range(0,df2.shape[0]):\n",
    "    Change.append(df2.Close[i] - df2.Open[i])\n",
    "df2['Change'] = Change\n",
    "\n",
    "\n",
    "##### Changing the index   \n",
    "df2['Date'] = df2.index # Making the index \"Date\" as a column of the dataframe.\n",
    "df2['Index'] = [i for i in range(df2.shape[0])] # Creating an index column and remove the Date as index\n",
    "df2 = df2.set_index('Index')\n",
    "\n",
    "\n",
    "##### Changing the format of date\n",
    "new_date = []\n",
    "for date in df2.Date:\n",
    "     new_date.append(datetime.strftime(datetime.strptime(str(date)[0:10], '%Y-%m-%d'),'%b-%d-%y'))\n",
    "df2['Date'] = new_date\n",
    "df2.head()"
   ]
  },
  {
   "cell_type": "markdown",
   "metadata": {},
   "source": [
    "Merging two dataframes df1 and df2"
   ]
  },
  {
   "cell_type": "code",
   "execution_count": 34,
   "metadata": {},
   "outputs": [],
   "source": [
    "##### Merging the data set on the date field\n",
    "df = df1.merge(df2, how = 'inner', on = 'Date', left_index = True)\n",
    "\n",
    "##### Data Cleaning, pre-processing \n",
    "df['Headlines'].replace(\"[^a-zA-Z]\", \" \",regex = True, inplace = True) # Replacing Punctuations with space\n",
    "df['Headlines'] = df['Headlines'].str.lower() # Making the Headlines to lower case\n",
    "\n",
    "\n",
    "##### Find Subjectivity and Polarity scores of news using TextBolb\n",
    "Subjectivity = []\n",
    "Polarity = []\n",
    "for news in df['Headlines']:\n",
    "    blob = TextBlob(news)\n",
    "    Subjectivity.append(blob.sentiment.subjectivity/len(blob))\n",
    "    Polarity.append(blob.sentiment.polarity/len(blob))\n",
    "df['Subjectivity'] = Subjectivity\n",
    "df['Polarity'] = Polarity\n",
    "\n",
    "\n",
    "##### Find Subjectivity and Polarity scores of news using VADER\n",
    "vader = SentimentIntensityAnalyzer()\n",
    "# Example: print(vader.polarity_scores(\"I think Apple is a bad company. I think they will fail this season.\"))\n",
    "f = lambda title: vader.polarity_scores(title)['compound']\n",
    "df['Compound'] = df['Headlines'].apply(f)"
   ]
  },
  {
   "cell_type": "code",
   "execution_count": 35,
   "metadata": {},
   "outputs": [],
   "source": [
    "##### Creating a label (1) when there is an increase in the price and the compound score is positive; Label (0) otherwise.\n",
    "Label = []\n",
    "for (x,y) in zip(df['Change'],df['Compound']):\n",
    "    if x > 0 and y > 0:\n",
    "        Label.append(1)\n",
    "    else:\n",
    "        Label.append(0)\n",
    "df['Label'] = Label"
   ]
  },
  {
   "cell_type": "code",
   "execution_count": 36,
   "metadata": {},
   "outputs": [
    {
     "data": {
      "text/html": [
       "<div>\n",
       "<style scoped>\n",
       "    .dataframe tbody tr th:only-of-type {\n",
       "        vertical-align: middle;\n",
       "    }\n",
       "\n",
       "    .dataframe tbody tr th {\n",
       "        vertical-align: top;\n",
       "    }\n",
       "\n",
       "    .dataframe thead th {\n",
       "        text-align: right;\n",
       "    }\n",
       "</style>\n",
       "<table border=\"1\" class=\"dataframe\">\n",
       "  <thead>\n",
       "    <tr style=\"text-align: right;\">\n",
       "      <th></th>\n",
       "      <th>Date</th>\n",
       "      <th>Label</th>\n",
       "      <th>Headlines</th>\n",
       "      <th>Close</th>\n",
       "      <th>Change</th>\n",
       "      <th>Compound</th>\n",
       "    </tr>\n",
       "    <tr>\n",
       "      <th>Index</th>\n",
       "      <th></th>\n",
       "      <th></th>\n",
       "      <th></th>\n",
       "      <th></th>\n",
       "      <th></th>\n",
       "      <th></th>\n",
       "    </tr>\n",
       "  </thead>\n",
       "  <tbody>\n",
       "    <tr>\n",
       "      <th>10234</th>\n",
       "      <td>Aug-03-20</td>\n",
       "      <td>0</td>\n",
       "      <td>delisting of class a common stock  units and...</td>\n",
       "      <td>10902.799805</td>\n",
       "      <td>54.160156</td>\n",
       "      <td>0.0000</td>\n",
       "    </tr>\n",
       "    <tr>\n",
       "      <th>10233</th>\n",
       "      <td>Jul-31-20</td>\n",
       "      <td>0</td>\n",
       "      <td>tradeweb selects nasdaq to provide market su...</td>\n",
       "      <td>10745.269531</td>\n",
       "      <td>3.799805</td>\n",
       "      <td>0.0000</td>\n",
       "    </tr>\n",
       "    <tr>\n",
       "      <th>10230</th>\n",
       "      <td>Jul-28-20</td>\n",
       "      <td>0</td>\n",
       "      <td>nasdaq reports huge jump in earnings per sha...</td>\n",
       "      <td>10402.089844</td>\n",
       "      <td>-107.110352</td>\n",
       "      <td>0.5423</td>\n",
       "    </tr>\n",
       "    <tr>\n",
       "      <th>10228</th>\n",
       "      <td>Jul-24-20</td>\n",
       "      <td>1</td>\n",
       "      <td>nasdaq announces mid month open short intere...</td>\n",
       "      <td>10363.179688</td>\n",
       "      <td>68.769531</td>\n",
       "      <td>0.4588</td>\n",
       "    </tr>\n",
       "    <tr>\n",
       "      <th>10227</th>\n",
       "      <td>Jul-23-20</td>\n",
       "      <td>0</td>\n",
       "      <td>singapores vision to xa attract tech listing...</td>\n",
       "      <td>10461.419922</td>\n",
       "      <td>-228.080078</td>\n",
       "      <td>0.3612</td>\n",
       "    </tr>\n",
       "  </tbody>\n",
       "</table>\n",
       "</div>"
      ],
      "text/plain": [
       "            Date  Label                                          Headlines  \\\n",
       "Index                                                                        \n",
       "10234  Aug-03-20      0    delisting of class a common stock  units and...   \n",
       "10233  Jul-31-20      0    tradeweb selects nasdaq to provide market su...   \n",
       "10230  Jul-28-20      0    nasdaq reports huge jump in earnings per sha...   \n",
       "10228  Jul-24-20      1    nasdaq announces mid month open short intere...   \n",
       "10227  Jul-23-20      0    singapores vision to xa attract tech listing...   \n",
       "\n",
       "              Close      Change  Compound  \n",
       "Index                                      \n",
       "10234  10902.799805   54.160156    0.0000  \n",
       "10233  10745.269531    3.799805    0.0000  \n",
       "10230  10402.089844 -107.110352    0.5423  \n",
       "10228  10363.179688   68.769531    0.4588  \n",
       "10227  10461.419922 -228.080078    0.3612  "
      ]
     },
     "execution_count": 36,
     "metadata": {},
     "output_type": "execute_result"
    }
   ],
   "source": [
    "##### Filtering the data frame df\n",
    "df = df.filter(['Date', 'Label', 'Headlines', 'Close', 'Change', 'Compound'])\n",
    "df.head()"
   ]
  },
  {
   "cell_type": "code",
   "execution_count": 37,
   "metadata": {},
   "outputs": [],
   "source": [
    "# First convert the date from string to a normal format with hierarchy \n",
    "df['Date'] = pd.to_datetime(df.Date).dt.date"
   ]
  },
  {
   "cell_type": "code",
   "execution_count": 38,
   "metadata": {},
   "outputs": [
    {
     "data": {
      "image/png": "[encoded data removed]",
      "text/plain": [
       "<Figure size 1008x288 with 1 Axes>"
      ]
     },
     "metadata": {
      "needs_background": "light"
     },
     "output_type": "display_data"
    }
   ],
   "source": [
    "##### Visualization of Sentiment Scores/Trend over time.\n",
    "plt.figure(figsize = (14,4))\n",
    "plt.title('{var_name} News Sentiments Score'.format(var_name='DOW'))\n",
    "plt.bar(df['Date'], df['Compound'])\n",
    "plt.xlabel('Date', fontsize = 18)\n",
    "plt.ylabel('Score',fontsize = 18)\n",
    "plt.xticks(rotation=45)\n",
    "plt.show()"
   ]
  },
  {
   "cell_type": "code",
   "execution_count": 39,
   "metadata": {},
   "outputs": [
    {
     "data": {
      "image/png": "[encoded data removed]",
      "text/plain": [
       "<Figure size 1008x288 with 1 Axes>"
      ]
     },
     "metadata": {
      "needs_background": "light"
     },
     "output_type": "display_data"
    }
   ],
   "source": [
    "##### Visualization of Close Price History\n",
    "plt.figure(figsize = (14,4))\n",
    "plt.title('{var_name} Close Price History'.format(var_name='DOW'))\n",
    "plt.plot(df['Date'], df['Close'])\n",
    "plt.xlabel('Date', fontsize = 18)\n",
    "plt.ylabel('Dollar ($)',fontsize = 18)\n",
    "plt.xticks(rotation=45)\n",
    "plt.show()"
   ]
  },
  {
   "cell_type": "code",
   "execution_count": 48,
   "metadata": {},
   "outputs": [
    {
     "data": {
      "image/png": "[encoded data removed]",
      "text/plain": [
       "<Figure size 720x720 with 2 Axes>"
      ]
     },
     "metadata": {
      "needs_background": "light"
     },
     "output_type": "display_data"
    }
   ],
   "source": [
    "##### Heatmap of feature correlation\n",
    "plt.figure(figsize=(10,10))\n",
    "corr = df.corr()\n",
    "ax = sns.heatmap(corr,vmin=-1,vmax=1,center=0,cmap=sns.diverging_palette(20,220,n=2000),square=True, annot=True,linewidths=.5)\n",
    "ax.set_xticklabels(ax.get_xticklabels(),rotation=45,horizontalalignment='right')\n",
    "plt.show()"
   ]
  },
  {
   "cell_type": "markdown",
   "metadata": {},
   "source": [
    "##### Developing a predictive model using RNN LSTM"
   ]
  },
  {
   "cell_type": "code",
   "execution_count": 49,
   "metadata": {},
   "outputs": [],
   "source": [
    "##### Create a new dataframe with only the 'Close' Column\n",
    "df_close = df2.filter(['Close'])\n",
    "df_close_ = df_close.values # Convert the dataframe to a numpy array\n",
    "\n",
    "\n",
    "##### Scaling the data \n",
    "scaler = MinMaxScaler(feature_range = (0,1))\n",
    "scaled_data = scaler.fit_transform(df_close_)\n",
    "\n",
    "\n",
    "##### Create the training data set: %80-%20 Train-Test\n",
    "train_len = math.ceil(len(df_close_)*0.8)\n",
    "train_data = scaled_data[0:train_len, :]\n",
    "x_train = []\n",
    "y_train = []\n",
    "last = 100 # Train our model using the last l days of data. \n",
    "for i in range(last,train_len):\n",
    "    x_train.append(train_data[i-last:i,0])\n",
    "    y_train.append(train_data[i,0])\n",
    "\n",
    "x_train, y_train = np.array(x_train), np.array(y_train) # Convert to numpy arrays"
   ]
  },
  {
   "cell_type": "markdown",
   "metadata": {},
   "source": [
    "##### Build the RRN-LSTM modol"
   ]
  },
  {
   "cell_type": "code",
   "execution_count": 50,
   "metadata": {},
   "outputs": [
    {
     "name": "stdout",
     "output_type": "stream",
     "text": [
      "Epoch 1/1\n",
      "8088/8088 [==============================] - 415s 51ms/step - loss: 9.9477e-05\n"
     ]
    },
    {
     "data": {
      "text/plain": [
       "<keras.callbacks.callbacks.History at 0x20f6e924198>"
      ]
     },
     "execution_count": 50,
     "metadata": {},
     "output_type": "execute_result"
    }
   ],
   "source": [
    "##### Reshape the data for LSTM \n",
    "x_train = np.reshape(x_train,(x_train.shape[0],x_train.shape[1],1))\n",
    "\n",
    "##### Structure of RRN-LSTM\n",
    "model = Sequential()\n",
    "model.add(LSTM(50, return_sequences = True, input_shape = (x_train.shape[1],1)))\n",
    "model.add(LSTM(50,return_sequences = False))\n",
    "model.add(Dense(25))\n",
    "model.add(Dense(1))\n",
    "\n",
    "##### Compile and train the model\n",
    "model.compile(optimizer = 'adam', loss ='mean_squared_error')\n",
    "model.fit(x_train,y_train, batch_size = 1, epochs=1)"
   ]
  },
  {
   "cell_type": "code",
   "execution_count": 52,
   "metadata": {},
   "outputs": [],
   "source": [
    "##### Create the testing data set\n",
    "test_data = scaled_data[train_len-last:,:]# or scaled_data[train_len-60:len(df_close),:]\n",
    "x_test = []\n",
    "y_test = df_close_[train_len: , :]\n",
    "\n",
    "for i in range(last,len(test_data)):\n",
    "    x_test.append(test_data[i-last:i,0])\n",
    "    \n",
    "x_test = np.array(x_test) # Covert to a numpy array\n",
    "x_test = np.reshape(x_test,(x_test.shape[0],x_test.shape[1],1)) # Reshape the data"
   ]
  },
  {
   "cell_type": "code",
   "execution_count": 53,
   "metadata": {},
   "outputs": [],
   "source": [
    "##### Get the model presictions for y_test\n",
    "predictions = model.predict(x_test)\n",
    "\n",
    "\n",
    "##### Invert the scaling \n",
    "predictions = scaler.inverse_transform(predictions)"
   ]
  },
  {
   "cell_type": "code",
   "execution_count": 54,
   "metadata": {},
   "outputs": [
    {
     "name": "stdout",
     "output_type": "stream",
     "text": [
      "280.18724786845075\n"
     ]
    }
   ],
   "source": [
    "##### Evaluate the model performance by Root Mean Squared Error\n",
    "rmse = np.sqrt(np.mean(predictions - y_test)**2)\n",
    "print(rmse)"
   ]
  },
  {
   "cell_type": "code",
   "execution_count": 55,
   "metadata": {},
   "outputs": [
    {
     "name": "stderr",
     "output_type": "stream",
     "text": [
      "C:\\Users\\User\\Anaconda3\\lib\\site-packages\\ipykernel_launcher.py:4: SettingWithCopyWarning: \n",
      "A value is trying to be set on a copy of a slice from a DataFrame.\n",
      "Try using .loc[row_indexer,col_indexer] = value instead\n",
      "\n",
      "See the caveats in the documentation: http://pandas.pydata.org/pandas-docs/stable/indexing.html#indexing-view-versus-copy\n",
      "  after removing the cwd from sys.path.\n"
     ]
    },
    {
     "data": {
      "image/png": "[encoded data removed]",
      "text/plain": [
       "<Figure size 1152x576 with 1 Axes>"
      ]
     },
     "metadata": {
      "needs_background": "light"
     },
     "output_type": "display_data"
    }
   ],
   "source": [
    "##### Plot the data\n",
    "train = df_close[:train_len]\n",
    "valid = df_close[train_len:]\n",
    "valid['Predictions'] = predictions\n",
    "# Visualize the data\n",
    "plt.figure(figsize = (16,8))\n",
    "plt.title('Model')\n",
    "plt.xlabel('Date', fontsize = 18)\n",
    "plt.ylabel('Close Price USD ($)',fontsize = 18)\n",
    "plt.plot(train['Close'])\n",
    "plt.plot(valid[['Close','Predictions']])\n",
    "plt.legend(['Train', 'Val', 'Predictions'], loc = 'lower right')\n",
    "plt.show()"
   ]
  },
  {
   "cell_type": "markdown",
   "metadata": {},
   "source": [
    "##### See how the model predict! It doesn't do very well with Index. But for Stock Somehow the prediction is Ok."
   ]
  },
  {
   "cell_type": "code",
   "execution_count": 57,
   "metadata": {},
   "outputs": [
    {
     "name": "stdout",
     "output_type": "stream",
     "text": [
      "[[9892.2705]]\n"
     ]
    }
   ],
   "source": [
    "##### Get the predicated quote\n",
    "pred_quote = web.DataReader('^IXIC', data_source = 'yahoo', start = '2012-01-01', end = '2020-08-04')\n",
    "new_df = pred_quote.filter(['Close'])\n",
    "last_days = new_df[-last:].values # last n days closing price values; n=5\n",
    "last_days_scaled = scaler.transform(last_days) # Scaling \n",
    "\n",
    "\n",
    "X_test = []\n",
    "X_test.append(last_days_scaled) # Append the last n days\n",
    "X_test = np.array(X_test) # Convert to a numpy array\n",
    "X_test = np.reshape(X_test,(X_test.shape[0],X_test.shape[1],1)) # Reshape the data\n",
    "pred_price = model.predict(X_test) # Get the predicated scaled price\n",
    "pred_price = scaler.inverse_transform(pred_price) # Reverse the scaling\n",
    "print(pred_price)"
   ]
  },
  {
   "cell_type": "code",
   "execution_count": 58,
   "metadata": {},
   "outputs": [
    {
     "name": "stdout",
     "output_type": "stream",
     "text": [
      "                    High           Low          Open         Close  \\\n",
      "Date                                                                 \n",
      "2020-08-05  11002.110352  10943.719727  10967.870117  10998.400391   \n",
      "\n",
      "                Volume     Adj Close  \n",
      "Date                                  \n",
      "2020-08-05  4119550000  10998.400391  \n"
     ]
    }
   ],
   "source": [
    "##### Get the actual quote\n",
    "actual_quote = web.DataReader('^IXIC', data_source = 'yahoo', start = '2020-08-05', end = '2020-08-05')\n",
    "print(actual_quote)"
   ]
  },
  {
   "cell_type": "code",
   "execution_count": null,
   "metadata": {},
   "outputs": [],
   "source": []
  }
 ],
 "metadata": {
  "kernelspec": {
   "display_name": "Python 3",
   "language": "python",
   "name": "python3"
  },
  "language_info": {
   "codemirror_mode": {
    "name": "ipython",
    "version": 3
   },
   "file_extension": ".py",
   "mimetype": "text/x-python",
   "name": "python",
   "nbconvert_exporter": "python",
   "pygments_lexer": "ipython3",
   "version": "3.7.3"
  }
 },
 "nbformat": 4,
 "nbformat_minor": 2
}
